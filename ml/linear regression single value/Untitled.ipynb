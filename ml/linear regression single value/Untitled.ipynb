{
 "cells": [
  {
   "cell_type": "markdown",
   "id": "9375ee7c-5c93-4c37-82e1-8d4c5cf07104",
   "metadata": {},
   "source": [
    "# numpy"
   ]
  },
  {
   "cell_type": "markdown",
   "id": "6ec9eb7b-76c5-4e3b-a622-19f4dfe30e57",
   "metadata": {},
   "source": [
    "* numpy *"
   ]
  },
  {
   "cell_type": "markdown",
   "id": "74871b94-1f2e-4d29-8f04-45ff015d667f",
   "metadata": {},
   "source": [
    "**prajwal**"
   ]
  },
  {
   "cell_type": "code",
   "execution_count": 2,
   "id": "d86a74a2-b0b5-4024-a940-467211bde8a8",
   "metadata": {},
   "outputs": [],
   "source": [
    "import numpy as np"
   ]
  },
  {
   "cell_type": "code",
   "execution_count": 3,
   "id": "f32e05a3-acd9-435c-87f6-bf5fbe29db06",
   "metadata": {},
   "outputs": [
    {
     "name": "stdout",
     "output_type": "stream",
     "text": [
      "hello world\n"
     ]
    }
   ],
   "source": [
    "print(\"hello world\")"
   ]
  },
  {
   "cell_type": "code",
   "execution_count": 4,
   "id": "69c83ef2-a4ec-487c-839a-e6f79461aedb",
   "metadata": {},
   "outputs": [],
   "source": [
    "i=45"
   ]
  },
  {
   "cell_type": "code",
   "execution_count": 5,
   "id": "946275ad-1314-4455-9afc-784c05991322",
   "metadata": {},
   "outputs": [
    {
     "name": "stdout",
     "output_type": "stream",
     "text": [
      "45\n"
     ]
    }
   ],
   "source": [
    "print(i)"
   ]
  },
  {
   "cell_type": "code",
   "execution_count": 6,
   "id": "eacb65fe-e5bd-4276-a3fd-bc13476057b8",
   "metadata": {},
   "outputs": [],
   "source": [
    "import pandas as pd"
   ]
  },
  {
   "cell_type": "code",
   "execution_count": null,
   "id": "b734b833-9847-4a9b-9787-44108d7a0de6",
   "metadata": {},
   "outputs": [],
   "source": [
    "from sklearn import linear_model"
   ]
  },
  {
   "cell_type": "code",
   "execution_count": null,
   "id": "289a23ac-d604-4131-90c3-61f59b7b363b",
   "metadata": {},
   "outputs": [],
   "source": [
    "import sklearn"
   ]
  },
  {
   "cell_type": "code",
   "execution_count": null,
   "id": "09ae213e-2164-4a45-9624-d3b7a1afca7d",
   "metadata": {},
   "outputs": [],
   "source": []
  }
 ],
 "metadata": {
  "kernelspec": {
   "display_name": "Python 3 (ipykernel)",
   "language": "python",
   "name": "python3"
  },
  "language_info": {
   "codemirror_mode": {
    "name": "ipython",
    "version": 3
   },
   "file_extension": ".py",
   "mimetype": "text/x-python",
   "name": "python",
   "nbconvert_exporter": "python",
   "pygments_lexer": "ipython3",
   "version": "3.12.3"
  }
 },
 "nbformat": 4,
 "nbformat_minor": 5
}
